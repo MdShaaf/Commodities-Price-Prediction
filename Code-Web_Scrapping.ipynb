{
 "cells": [
  {
   "cell_type": "code",
   "execution_count": null,
   "id": "dd8dcba0",
   "metadata": {},
   "outputs": [
    {
     "name": "stdout",
     "output_type": "stream",
     "text": [
      "File 'agmarknet_data new.xlsx' already exists. Exiting to avoid overwriting.\n"
     ]
    },
    {
     "ename": "",
     "evalue": "",
     "output_type": "error",
     "traceback": [
      "\u001b[1;31mThe Kernel crashed while executing code in the current cell or a previous cell. \n",
      "\u001b[1;31mPlease review the code in the cell(s) to identify a possible cause of the failure. \n",
      "\u001b[1;31mClick <a href='https://aka.ms/vscodeJupyterKernelCrash'>here</a> for more info. \n",
      "\u001b[1;31mView Jupyter <a href='command:jupyter.viewOutput'>log</a> for further details."
     ]
    }
   ],
   "source": [
    "from selenium import webdriver\n",
    "from selenium.webdriver.chrome.service import Service\n",
    "from selenium.webdriver.support.ui import Select, WebDriverWait\n",
    "import time\n",
    "from selenium.webdriver.common.by import By\n",
    "import pandas as pd\n",
    "from selenium.webdriver.support.ui import WebDriverWait\n",
    "from selenium.webdriver.support import expected_conditions as EC\n",
    "from selenium.webdriver.chrome.options import Options\n",
    "from selenium.webdriver.common.keys import Keys\n",
    "import os\n",
    "\n",
    "#checking if the data file already exists\n",
    "file_name = \"agmarknet_data new.xlsx\"\n",
    "if os.path.exists(file_name):\n",
    "    print(f\"File '{file_name}' already exists. Exiting to avoid overwriting.\")\n",
    "    exit()\n",
    "else:\n",
    "    print(f\"File '{file_name}' does not exist. Proceeding with web scraping.\")   \n",
    "    #IF NOT, continue with the web scraping process\n",
    "    # Create a fresh Chrome session\n",
    "    service = Service()\n",
    "    driver = webdriver.Chrome(service=service)\n",
    "\n",
    "    # Open a website\n",
    "    driver.get(\"https://agmarknet.gov.in/\")\n",
    "\n",
    "    # Wait for page load\n",
    "    time.sleep(3)\n",
    "    # Interacting with the dropdown buttons\n",
    "    select_element = driver.find_element(By.ID, \"ddlCommodity\") #Commodity section\n",
    "    select = Select(select_element)\n",
    "    select.select_by_value(\"103\") #selecting the commodity(Ginger)\n",
    "    time.sleep(2)\n",
    "\n",
    "    # Interact with another dropdown,slecting state, district and market\n",
    "    select_element = driver.find_element(By.ID, \"ddlState\")\n",
    "    select = Select(select_element)\n",
    "    select.select_by_value(\"KK\") #selecting the state(Karnataka)\n",
    "    time.sleep(3)\n",
    "\n",
    "    select_element = driver.find_element(By.ID, \"ddlDistrict\") #District section\n",
    "    select = Select(select_element)\n",
    "    select.select_by_value(\"1\") #selecting the district(Bagalore)\n",
    "    time.sleep(3)\n",
    "\n",
    "    select_element = driver.find_element(By.ID, \"ddlMarket\") #Market section\n",
    "    select = Select(select_element)\n",
    "    select.select_by_value(\"107\") #selecting the market(Bangalore)\n",
    "    time.sleep(3)\n",
    "\n",
    "    #enter date in DD-MM-YYYY format\n",
    "\n",
    "    date_input = driver.find_element(By.ID, \"txtDate\") # Find the date input element\n",
    "    date_input.clear() # Clear any existing value\n",
    "    date_input.send_keys(\"01-01-2010\") # Type the date (Selecting first available date)\n",
    "    date_input.send_keys(Keys.ENTER) # Hit Enter\n",
    "    time.sleep(3)\n",
    "\n",
    "\n",
    "    # Print the current URL\n",
    "    print(\"Final URL:\", driver.current_url) #Comment this line if you don't want to see the URL\n",
    "    # Wait for page load\n",
    "    time.sleep(3)\n",
    "    # Extract table data\n",
    "    data = []\n",
    "    table_rows = driver.find_elements(By.XPATH, '//*[@id=\"cphBody_GridPriceData\"]/tbody/tr') # Locate table rows using XPath\n",
    "\n",
    "    # Iterate through rows and extract cell data\n",
    "    for rw in table_rows:\n",
    "        cells = rw.find_elements(By.TAG_NAME, 'td')\n",
    "        row_data = []\n",
    "        for cell in cells:\n",
    "            text_data = cell.text.strip()\n",
    "            row_data.append(text_data)\n",
    "        data.append(row_data)\n",
    "    driver.quit() # Close the browser\n",
    "    # Convert to DataFrame\n",
    "    df = pd.DataFrame(data)\n",
    "\n",
    "    # Export to Excel\n",
    "    df.to_excel(\"agmarknet_data new.xlsx\", index=False)\n",
    "\n",
    "    print(\"✅ Data exported to agmarknet_data.xlsx\")"
   ]
  },
  {
   "cell_type": "code",
   "execution_count": null,
   "id": "d4e8b10b",
   "metadata": {},
   "outputs": [],
   "source": []
  }
 ],
 "metadata": {
  "kernelspec": {
   "display_name": "base",
   "language": "python",
   "name": "python3"
  },
  "language_info": {
   "codemirror_mode": {
    "name": "ipython",
    "version": 3
   },
   "file_extension": ".py",
   "mimetype": "text/x-python",
   "name": "python",
   "nbconvert_exporter": "python",
   "pygments_lexer": "ipython3",
   "version": "3.12.4"
  }
 },
 "nbformat": 4,
 "nbformat_minor": 5
}
