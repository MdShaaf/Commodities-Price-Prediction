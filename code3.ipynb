{
 "cells": [
  {
   "cell_type": "code",
   "execution_count": 2,
   "id": "ea6649c3",
   "metadata": {},
   "outputs": [
    {
     "name": "stdout",
     "output_type": "stream",
     "text": [
      "Screenshot saved as website_snip.png\n"
     ]
    }
   ],
   "source": [
    "from selenium import webdriver\n",
    "from selenium.webdriver.chrome.service import Service\n",
    "from selenium.webdriver.chrome.options import Options\n",
    "import tempfile, time\n",
    "\n",
    "# Create a temporary directory for a fresh Chrome user profile\n",
    "user_data_dir = tempfile.mkdtemp()\n",
    "\n",
    "chrome_options = Options()\n",
    "chrome_options.add_argument(f\"--user-data-dir={user_data_dir}\")  # unique profile\n",
    "\n",
    "# Start a fresh Chrome session\n",
    "service = Service()\n",
    "driver = webdriver.Chrome(service=service, options=chrome_options)\n",
    "\n",
    "# Open a website\n",
    "driver.get(\"https://agmarknet.gov.in/\")\n",
    "\n",
    "# Wait for page load\n",
    "time.sleep(3)\n",
    "\n",
    "# Take screenshot\n",
    "driver.save_screenshot(\"website_snip.png\")\n",
    "print(\"Screenshot saved as website_snip.png\")\n",
    "\n",
    "driver.quit()\n"
   ]
  },
  {
   "cell_type": "code",
   "execution_count": null,
   "id": "d4695484",
   "metadata": {},
   "outputs": [
    {
     "ename": "NoSuchElementException",
     "evalue": "Message: no such element: Unable to locate element: {\"method\":\"css selector\",\"selector\":\"[id=\"cphBody_ButtonExcel\"]\"}\n  (Session info: chrome=140.0.7339.128); For documentation on this error, please visit: https://www.selenium.dev/documentation/webdriver/troubleshooting/errors#nosuchelementexception\nStacktrace:\n\tGetHandleVerifier [0x0x7ff71432fc95+79861]\n\tGetHandleVerifier [0x0x7ff71432fcf0+79952]\n\t(No symbol) [0x0x7ff7140acada]\n\t(No symbol) [0x0x7ff714104457]\n\t(No symbol) [0x0x7ff71410471c]\n\t(No symbol) [0x0x7ff714158217]\n\t(No symbol) [0x0x7ff71412cb1f]\n\t(No symbol) [0x0x7ff714154f8b]\n\t(No symbol) [0x0x7ff71412c8b3]\n\t(No symbol) [0x0x7ff7140f5272]\n\t(No symbol) [0x0x7ff7140f6043]\n\tGetHandleVerifier [0x0x7ff7145eb9cd+2946349]\n\tGetHandleVerifier [0x0x7ff7145e5c4a+2922410]\n\tGetHandleVerifier [0x0x7ff7146059d7+3052855]\n\tGetHandleVerifier [0x0x7ff71434aa7e+189918]\n\tGetHandleVerifier [0x0x7ff714352a1f+222591]\n\tGetHandleVerifier [0x0x7ff714338ab4+116244]\n\tGetHandleVerifier [0x0x7ff714338c69+116681]\n\tGetHandleVerifier [0x0x7ff71431f048+11176]\n\tBaseThreadInitThunk [0x0x7ffa704ee8d7+23]\n\tRtlUserThreadStart [0x0x7ffa71fbc34c+44]\n",
     "output_type": "error",
     "traceback": [
      "\u001b[1;31m---------------------------------------------------------------------------\u001b[0m",
      "\u001b[1;31mNoSuchElementException\u001b[0m                    Traceback (most recent call last)",
      "Cell \u001b[1;32mIn[13], line 53\u001b[0m\n\u001b[0;32m     50\u001b[0m \u001b[38;5;66;03m# Hit Enter\u001b[39;00m\n\u001b[0;32m     51\u001b[0m date_input\u001b[38;5;241m.\u001b[39msend_keys(Keys\u001b[38;5;241m.\u001b[39mENTER)\n\u001b[1;32m---> 53\u001b[0m select_element \u001b[38;5;241m=\u001b[39m driver\u001b[38;5;241m.\u001b[39mfind_element(By\u001b[38;5;241m.\u001b[39mID, \u001b[38;5;124m\"\u001b[39m\u001b[38;5;124mcphBody_ButtonExcel\u001b[39m\u001b[38;5;124m\"\u001b[39m)\n\u001b[0;32m     54\u001b[0m select_element\u001b[38;5;241m.\u001b[39mclick()\n\u001b[0;32m     55\u001b[0m time\u001b[38;5;241m.\u001b[39msleep(\u001b[38;5;241m10\u001b[39m)\n",
      "File \u001b[1;32mc:\\Users\\Shaaf\\anaconda3\\Lib\\site-packages\\selenium\\webdriver\\remote\\webdriver.py:926\u001b[0m, in \u001b[0;36mWebDriver.find_element\u001b[1;34m(self, by, value)\u001b[0m\n\u001b[0;32m    923\u001b[0m         \u001b[38;5;28;01mraise\u001b[39;00m NoSuchElementException(\u001b[38;5;124mf\u001b[39m\u001b[38;5;124m\"\u001b[39m\u001b[38;5;124mCannot locate relative element with: \u001b[39m\u001b[38;5;132;01m{\u001b[39;00mby\u001b[38;5;241m.\u001b[39mroot\u001b[38;5;132;01m}\u001b[39;00m\u001b[38;5;124m\"\u001b[39m)\n\u001b[0;32m    924\u001b[0m     \u001b[38;5;28;01mreturn\u001b[39;00m elements[\u001b[38;5;241m0\u001b[39m]\n\u001b[1;32m--> 926\u001b[0m \u001b[38;5;28;01mreturn\u001b[39;00m \u001b[38;5;28mself\u001b[39m\u001b[38;5;241m.\u001b[39mexecute(Command\u001b[38;5;241m.\u001b[39mFIND_ELEMENT, {\u001b[38;5;124m\"\u001b[39m\u001b[38;5;124musing\u001b[39m\u001b[38;5;124m\"\u001b[39m: by, \u001b[38;5;124m\"\u001b[39m\u001b[38;5;124mvalue\u001b[39m\u001b[38;5;124m\"\u001b[39m: value})[\u001b[38;5;124m\"\u001b[39m\u001b[38;5;124mvalue\u001b[39m\u001b[38;5;124m\"\u001b[39m]\n",
      "File \u001b[1;32mc:\\Users\\Shaaf\\anaconda3\\Lib\\site-packages\\selenium\\webdriver\\remote\\webdriver.py:458\u001b[0m, in \u001b[0;36mWebDriver.execute\u001b[1;34m(self, driver_command, params)\u001b[0m\n\u001b[0;32m    455\u001b[0m response \u001b[38;5;241m=\u001b[39m cast(RemoteConnection, \u001b[38;5;28mself\u001b[39m\u001b[38;5;241m.\u001b[39mcommand_executor)\u001b[38;5;241m.\u001b[39mexecute(driver_command, params)\n\u001b[0;32m    457\u001b[0m \u001b[38;5;28;01mif\u001b[39;00m response:\n\u001b[1;32m--> 458\u001b[0m     \u001b[38;5;28mself\u001b[39m\u001b[38;5;241m.\u001b[39merror_handler\u001b[38;5;241m.\u001b[39mcheck_response(response)\n\u001b[0;32m    459\u001b[0m     response[\u001b[38;5;124m\"\u001b[39m\u001b[38;5;124mvalue\u001b[39m\u001b[38;5;124m\"\u001b[39m] \u001b[38;5;241m=\u001b[39m \u001b[38;5;28mself\u001b[39m\u001b[38;5;241m.\u001b[39m_unwrap_value(response\u001b[38;5;241m.\u001b[39mget(\u001b[38;5;124m\"\u001b[39m\u001b[38;5;124mvalue\u001b[39m\u001b[38;5;124m\"\u001b[39m, \u001b[38;5;28;01mNone\u001b[39;00m))\n\u001b[0;32m    460\u001b[0m     \u001b[38;5;28;01mreturn\u001b[39;00m response\n",
      "File \u001b[1;32mc:\\Users\\Shaaf\\anaconda3\\Lib\\site-packages\\selenium\\webdriver\\remote\\errorhandler.py:232\u001b[0m, in \u001b[0;36mErrorHandler.check_response\u001b[1;34m(self, response)\u001b[0m\n\u001b[0;32m    230\u001b[0m         alert_text \u001b[38;5;241m=\u001b[39m value[\u001b[38;5;124m\"\u001b[39m\u001b[38;5;124malert\u001b[39m\u001b[38;5;124m\"\u001b[39m]\u001b[38;5;241m.\u001b[39mget(\u001b[38;5;124m\"\u001b[39m\u001b[38;5;124mtext\u001b[39m\u001b[38;5;124m\"\u001b[39m)\n\u001b[0;32m    231\u001b[0m     \u001b[38;5;28;01mraise\u001b[39;00m exception_class(message, screen, stacktrace, alert_text)  \u001b[38;5;66;03m# type: ignore[call-arg]  # mypy is not smart enough here\u001b[39;00m\n\u001b[1;32m--> 232\u001b[0m \u001b[38;5;28;01mraise\u001b[39;00m exception_class(message, screen, stacktrace)\n",
      "\u001b[1;31mNoSuchElementException\u001b[0m: Message: no such element: Unable to locate element: {\"method\":\"css selector\",\"selector\":\"[id=\"cphBody_ButtonExcel\"]\"}\n  (Session info: chrome=140.0.7339.128); For documentation on this error, please visit: https://www.selenium.dev/documentation/webdriver/troubleshooting/errors#nosuchelementexception\nStacktrace:\n\tGetHandleVerifier [0x0x7ff71432fc95+79861]\n\tGetHandleVerifier [0x0x7ff71432fcf0+79952]\n\t(No symbol) [0x0x7ff7140acada]\n\t(No symbol) [0x0x7ff714104457]\n\t(No symbol) [0x0x7ff71410471c]\n\t(No symbol) [0x0x7ff714158217]\n\t(No symbol) [0x0x7ff71412cb1f]\n\t(No symbol) [0x0x7ff714154f8b]\n\t(No symbol) [0x0x7ff71412c8b3]\n\t(No symbol) [0x0x7ff7140f5272]\n\t(No symbol) [0x0x7ff7140f6043]\n\tGetHandleVerifier [0x0x7ff7145eb9cd+2946349]\n\tGetHandleVerifier [0x0x7ff7145e5c4a+2922410]\n\tGetHandleVerifier [0x0x7ff7146059d7+3052855]\n\tGetHandleVerifier [0x0x7ff71434aa7e+189918]\n\tGetHandleVerifier [0x0x7ff714352a1f+222591]\n\tGetHandleVerifier [0x0x7ff714338ab4+116244]\n\tGetHandleVerifier [0x0x7ff714338c69+116681]\n\tGetHandleVerifier [0x0x7ff71431f048+11176]\n\tBaseThreadInitThunk [0x0x7ffa704ee8d7+23]\n\tRtlUserThreadStart [0x0x7ffa71fbc34c+44]\n"
     ]
    }
   ],
   "source": [
    "from selenium import webdriver\n",
    "from selenium.webdriver.chrome.service import Service\n",
    "from selenium.webdriver.support.ui import Select\n",
    "import time\n",
    "from selenium.webdriver.common.by import By\n",
    "\n",
    "# Create a fresh Chrome session\n",
    "service = Service()\n",
    "driver = webdriver.Chrome(service=service)\n",
    "\n",
    "# Open a website\n",
    "driver.get(\"https://agmarknet.gov.in/\")\n",
    "\n",
    "# Wait for page load\n",
    "time.sleep(3)\n",
    "# Interact with dropdown\n",
    "select_element = driver.find_element(By.ID, \"ddlCommodity\")\n",
    "select = Select(select_element)\n",
    "select.select_by_value(\"103\")\n",
    "time.sleep(2)\n",
    "\n",
    "# Interact with another dropdown,slecting state, district and market\n",
    "select_element = driver.find_element(By.ID, \"ddlState\")\n",
    "select = Select(select_element)\n",
    "select.select_by_value(\"KK\")\n",
    "time.sleep(3)\n",
    "\n",
    "select_element = driver.find_element(By.ID, \"ddlDistrict\")\n",
    "select = Select(select_element)\n",
    "select.select_by_value(\"1\")\n",
    "time.sleep(3)\n",
    "\n",
    "select_element = driver.find_element(By.ID, \"ddlMarket\")\n",
    "select = Select(select_element)\n",
    "select.select_by_value(\"107\")\n",
    "time.sleep(3)\n",
    "\n",
    "#enter date in DD-MM-YYYY format\n",
    "from selenium.webdriver.common.keys import Keys\n",
    "\n",
    "# Find the date input element\n",
    "date_input = driver.find_element(By.ID, \"txtDate\")\n",
    "\n",
    "# Clear any existing value\n",
    "date_input.clear()\n",
    "\n",
    "# Type the date\n",
    "date_input.send_keys(\"01-01-2010\")\n",
    "\n",
    "# Hit Enter\n",
    "date_input.send_keys(Keys.ENTER)\n",
    "\n",
    "# select_element = driver.find_element(By.ID, \"cphBody_ButtonExcel\")\n",
    "# select_element.click()\n",
    "# time.sleep(10)\n",
    "\n",
    "tables=pd.read_html(driver.page_source)\n",
    "print(tables[0])\n",
    "\n",
    "# Take screenshot\n",
    "driver.save_screenshot(\"website_snip.png\")\n",
    "print(\"Screenshot saved as website_snip.png\")\n",
    "\n",
    "# Close browser after use\n",
    "driver.quit()\n"
   ]
  }
 ],
 "metadata": {
  "kernelspec": {
   "display_name": "base",
   "language": "python",
   "name": "python3"
  },
  "language_info": {
   "codemirror_mode": {
    "name": "ipython",
    "version": 3
   },
   "file_extension": ".py",
   "mimetype": "text/x-python",
   "name": "python",
   "nbconvert_exporter": "python",
   "pygments_lexer": "ipython3",
   "version": "3.12.4"
  }
 },
 "nbformat": 4,
 "nbformat_minor": 5
}
